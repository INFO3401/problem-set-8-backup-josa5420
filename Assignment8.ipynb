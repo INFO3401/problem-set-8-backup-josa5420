{
 "cells": [
  {
   "cell_type": "markdown",
   "metadata": {},
   "source": [
    "## Jack Sandberg\n",
    "## Assignment 8\n",
    "\n",
    "Monday: \n",
    "\n",
    "Most datasets that you will encounter in practice need some degree of wrangling before they're ready to be analyzed. For today, you'll experiment using ETL to clean up a dataset scraped from MySpace, a social media platform. Write a Python script called dataWrangling.py to clean the data in dd-comment-profile.csv file. Your Python file should contain a function called generateCleanFile that takes as input (1) the name of the file to be cleaned and (2) the name of the file to be generated that will hold the cleaned data. Your code should clean the data in the following ways: \n"
   ]
  },
  {
   "cell_type": "code",
   "execution_count": 45,
   "metadata": {},
   "outputs": [
    {
     "name": "stderr",
     "output_type": "stream",
     "text": [
      "/anaconda3/lib/python3.6/site-packages/IPython/core/interactiveshell.py:2698: DtypeWarning: Columns (0) have mixed types. Specify dtype option on import or set low_memory=False.\n",
      "  interactivity=interactivity, compiler=compiler, result=result)\n"
     ]
    }
   ],
   "source": [
    "import pandas as pd\n",
    "import csv\n",
    "df = pd.read_csv(\"dd-comment-profile.csv\")"
   ]
  },
  {
   "cell_type": "code",
   "execution_count": 46,
   "metadata": {},
   "outputs": [
    {
     "data": {
      "text/html": [
       "<div>\n",
       "<style>\n",
       "    .dataframe thead tr:only-child th {\n",
       "        text-align: right;\n",
       "    }\n",
       "\n",
       "    .dataframe thead th {\n",
       "        text-align: left;\n",
       "    }\n",
       "\n",
       "    .dataframe tbody tr th {\n",
       "        vertical-align: top;\n",
       "    }\n",
       "</style>\n",
       "<table border=\"1\" class=\"dataframe\">\n",
       "  <thead>\n",
       "    <tr style=\"text-align: right;\">\n",
       "      <th></th>\n",
       "      <th>comment_id</th>\n",
       "      <th>comment_date</th>\n",
       "      <th>comment_postmortem_ind</th>\n",
       "      <th>comment_msg</th>\n",
       "      <th>deceased_id</th>\n",
       "      <th>profile_account_id</th>\n",
       "    </tr>\n",
       "  </thead>\n",
       "  <tbody>\n",
       "    <tr>\n",
       "      <th>0</th>\n",
       "      <td>1</td>\n",
       "      <td>4/3/10 2:42</td>\n",
       "      <td>1.0</td>\n",
       "      <td>colby miss you and love you. tell richard we m...</td>\n",
       "      <td>3.0</td>\n",
       "      <td>3.0</td>\n",
       "    </tr>\n",
       "  </tbody>\n",
       "</table>\n",
       "</div>"
      ],
      "text/plain": [
       "  comment_id comment_date  comment_postmortem_ind  \\\n",
       "0          1  4/3/10 2:42                     1.0   \n",
       "\n",
       "                                         comment_msg  deceased_id  \\\n",
       "0  colby miss you and love you. tell richard we m...          3.0   \n",
       "\n",
       "   profile_account_id  \n",
       "0                 3.0  "
      ]
     },
     "execution_count": 46,
     "metadata": {},
     "output_type": "execute_result"
    }
   ],
   "source": [
    "df.head(1)"
   ]
  },
  {
   "cell_type": "markdown",
   "metadata": {},
   "source": [
    "### 1 \n",
    "Remove HTML Tags: Since this data has been scraped from the web, it contains a number of HTML tags that indicate components of the DOM but aren't useful for analysis. Remove any HTML tags, but keep the contents of the comment. For example, <div>Hi, Mike!</div> will become Hi, Mike!"
   ]
  },
  {
   "cell_type": "code",
   "execution_count": 47,
   "metadata": {
    "collapsed": true
   },
   "outputs": [],
   "source": [
    "import re\n",
    "\n",
    "def cleanhtml(raw_html):\n",
    "  cleanr = re.compile('<.*?>')  # .*?\n",
    "  cleantext = re.sub(cleanr, '', raw_html)\n",
    "  return cleantext\n",
    "\n",
    "df['comment_msg'] = [cleanhtml(str(i)) for i in df['comment_msg']]"
   ]
  },
  {
   "cell_type": "markdown",
   "metadata": {},
   "source": [
    "### 2 \n",
    "Remove spam: Some comments on social media contain spam and aren't useful for our analysis. We can determine comments that are spam by removing any comments containing a web address or any of the following keywords: App, FREE, %20, Check out my page. Note that these keywords are NOT case sensitive (e.g., you should remove comments containing APP, app, App, APp, etc.).\n"
   ]
  },
  {
   "cell_type": "code",
   "execution_count": 81,
   "metadata": {},
   "outputs": [
    {
     "name": "stdout",
     "output_type": "stream",
     "text": [
      "385419\n",
      "385419\n",
      "385419\n",
      "385419\n",
      "385419\n"
     ]
    }
   ],
   "source": [
    "print(len(df))\n",
    "df = df[df['comment_msg'].str.contains(\"free\".casefold()) == False]\n",
    "print(len(df))\n",
    "df = df[df['comment_msg'].str.contains(\"app\".casefold()) == False]\n",
    "print(len(df))\n",
    "df = df[df['comment_msg'].str.contains(\"%20\".casefold()) == False]\n",
    "print(len(df))\n",
    "df = df[df['comment_msg'].str.contains(\"check out my page\".casefold()) == False]\n",
    "print(len(df))"
   ]
  },
  {
   "cell_type": "markdown",
   "metadata": {
    "collapsed": true
   },
   "source": [
    "### 3 \n",
    "Remove Missing Data: The data collection script used to scrape MySpace inserted null values in cases where the data collection was unable to process meaningful content. Remove all rows where the message is null."
   ]
  },
  {
   "cell_type": "code",
   "execution_count": 83,
   "metadata": {},
   "outputs": [
    {
     "name": "stdout",
     "output_type": "stream",
     "text": [
      "385419\n",
      "385419\n"
     ]
    }
   ],
   "source": [
    "print(len(df))\n",
    "df['comment_msg'] = df['comment_msg'].fillna(\"\")\n",
    "df = df[df['comment_msg'].map(len)>0]\n",
    "df = df[df['comment_msg']!='nan'.casefold()]\n",
    "print(len(df))"
   ]
  },
  {
   "cell_type": "code",
   "execution_count": 84,
   "metadata": {},
   "outputs": [
    {
     "data": {
      "text/plain": [
       "440572    Sup D when i get bak from Baltimore im going t...\n",
       "440573    i miss you so much man i hope i get to see you...\n",
       "440574                                    \\r\\n\\nI LOVE YOU.\n",
       "440575    DerEk JaCOB!\\r\\n\\n\\r\\n\\nyo yo yo yo I MISS U B...\n",
       "440576    Hey man, ...i am thinking about you as always....\n",
       "Name: comment_msg, dtype: object"
      ]
     },
     "execution_count": 84,
     "metadata": {},
     "output_type": "execute_result"
    }
   ],
   "source": [
    "df['comment_msg'].tail()"
   ]
  }
 ],
 "metadata": {
  "kernelspec": {
   "display_name": "Python 3",
   "language": "python",
   "name": "python3"
  },
  "language_info": {
   "codemirror_mode": {
    "name": "ipython",
    "version": 3
   },
   "file_extension": ".py",
   "mimetype": "text/x-python",
   "name": "python",
   "nbconvert_exporter": "python",
   "pygments_lexer": "ipython3",
   "version": "3.6.3"
  }
 },
 "nbformat": 4,
 "nbformat_minor": 2
}
